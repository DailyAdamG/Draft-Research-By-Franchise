{
 "cells": [
  {
   "cell_type": "code",
   "execution_count": null,
   "metadata": {},
   "outputs": [],
   "source": [
    "import matplotlib.pyplot as plt\n",
    "import pandas as pd\n",
    "import numpy as np"
   ]
  },
  {
   "cell_type": "code",
   "execution_count": null,
   "metadata": {},
   "outputs": [],
   "source": [
    "#Original Draft Data\n",
    "\n",
    "master_data = pd.read_csv(\"../starting file/Draft_SD_CSV.csv\")"
   ]
  },
  {
   "cell_type": "code",
   "execution_count": null,
   "metadata": {},
   "outputs": [],
   "source": [
    "#Creating WAR Group Column\n",
    "\n",
    "master_data.loc[(master_data[\"Total_WAR\"] < 5), \"WAR Group\"] = \"Less than 5 WAR\"\n",
    "master_data.loc[(master_data[\"Total_WAR\"] < 10) & (master_data[\"Total_WAR\"] >= 5), \"WAR Group\"] = \"5-10 WAR\"\n",
    "master_data.loc[(master_data[\"Total_WAR\"] < 15) & (master_data[\"Total_WAR\"] >= 10), \"WAR Group\"] = \"10-15 WAR\"\n",
    "master_data.loc[(master_data[\"Total_WAR\"] < 20) & (master_data[\"Total_WAR\"] >= 15), \"WAR Group\"] = \"15-20 WAR\"\n",
    "master_data.loc[(master_data[\"Total_WAR\"] < 25) & (master_data[\"Total_WAR\"] >= 20), \"WAR Group\"] = \"20-25 WAR\"\n",
    "master_data.loc[(master_data[\"Total_WAR\"] >= 25), \"WAR Group\"] = \"More than 25 WAR\"\n",
    "master_data[\"WAR Group\"].fillna(\"No Major League Experience\", inplace = True)"
   ]
  }
 ],
 "metadata": {
  "kernelspec": {
   "display_name": "Python 3",
   "language": "python",
   "name": "python3"
  },
  "language_info": {
   "codemirror_mode": {
    "name": "ipython",
    "version": 3
   },
   "file_extension": ".py",
   "mimetype": "text/x-python",
   "name": "python",
   "nbconvert_exporter": "python",
   "pygments_lexer": "ipython3",
   "version": "3.6.10"
  }
 },
 "nbformat": 4,
 "nbformat_minor": 4
}
